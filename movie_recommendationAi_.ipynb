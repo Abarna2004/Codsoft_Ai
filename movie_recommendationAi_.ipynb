{
  "nbformat": 4,
  "nbformat_minor": 0,
  "metadata": {
    "colab": {
      "provenance": []
    },
    "kernelspec": {
      "name": "python3",
      "display_name": "Python 3"
    },
    "language_info": {
      "name": "python"
    }
  },
  "cells": [
    {
      "cell_type": "code",
      "source": [
        "from google.colab import drive\n",
        "drive.mount('/content/drive/')\n",
        "data = pd.read_csv('/content/drive/MyDrive/Tamil_movies_dataset.csv')\n",
        "data.columns\n"
      ],
      "metadata": {
        "colab": {
          "base_uri": "https://localhost:8080/"
        },
        "id": "ReEQ8AoAy4lm",
        "outputId": "d228e424-bad1-4fd6-da85-922f20288754"
      },
      "execution_count": null,
      "outputs": [
        {
          "output_type": "stream",
          "name": "stdout",
          "text": [
            "Mounted at /content/drive/\n"
          ]
        },
        {
          "output_type": "execute_result",
          "data": {
            "text/plain": [
              "Index(['MovieName', 'Genre', 'Rating', 'Director', 'Actor', 'PeopleVote',\n",
              "       'Year', 'Hero_Rating', 'movie_rating', 'content_rating'],\n",
              "      dtype='object')"
            ]
          },
          "metadata": {},
          "execution_count": 2
        }
      ]
    },
    {
      "cell_type": "code",
      "source": [
        "#movie recommendation system (AI task in Codsoft)\n",
        "import pandas as pd\n",
        "\n",
        "# Load your own dataset of Tamil movies\n",
        "tamil_movies = pd.read_csv('/content/drive/MyDrive/Tamil_movies_dataset.csv')\n",
        "\n",
        "# Define a function to make Tamil movie recommendations based on user input\n",
        "def recommend_tamil_movies():\n",
        "    print(\"Welcome to the Tamil Movie Recommendation System!\")\n",
        "    user_age = int(input(\"Please enter your age: \"))\n",
        "\n",
        "    # Ask for user preferences\n",
        "    movie_interest = input(\"What genre of Tamil movies do you prefer (Action/Drama/Comedy/Romance/Thriller)? \").strip().title()\n",
        "    favorite_actor = input(\"Who is your favorite Tamil actor? \").strip().title()\n",
        "    favorite_director = input(\"Who is your favorite Tamil director? \").strip().title()\n",
        "\n",
        "    print(\"Based on your preferences, here are some Tamil movies you might like:\")\n",
        "\n",
        "    # Convert user input to lowercase for case-insensitive matching\n",
        "    movie_interest = movie_interest.lower()\n",
        "    favorite_actor = favorite_actor.lower()\n",
        "    favorite_director = favorite_director.lower()\n",
        "\n",
        "    # Filter Tamil movies based on user preferences\n",
        "    filtered_movies = tamil_movies[\n",
        "        (tamil_movies['Genre'].str.lower() == movie_interest) &\n",
        "        (tamil_movies['Actor'].str.lower() == favorite_actor) &\n",
        "        (tamil_movies['Director'].str.lower() == favorite_director)\n",
        "    ]\n",
        "\n",
        "    if not filtered_movies.empty:\n",
        "        print(filtered_movies['MovieName'].tolist())\n",
        "    else:\n",
        "        print(\"Sorry, we couldn't find any movies matching your preferences.\")\n",
        "\n",
        "# Example usage:\n",
        "recommend_tamil_movies()\n"
      ],
      "metadata": {
        "colab": {
          "base_uri": "https://localhost:8080/"
        },
        "id": "vsCH_EYd0vj0",
        "outputId": "578c08ad-92a0-4143-a36f-89823e946bed"
      },
      "execution_count": null,
      "outputs": [
        {
          "output_type": "stream",
          "name": "stdout",
          "text": [
            "Welcome to the Tamil Movie Recommendation System!\n",
            "Please enter your age: 19\n",
            "What genre of Tamil movies do you prefer (Action/Drama/Comedy/Romance/Thriller)? comedy\n",
            "Who is your favorite Tamil actor? Lawrence Raghavendra\n",
            "Who is your favorite Tamil director? Lawrence Raghavendra\n",
            "Based on your preferences, here are some Tamil movies you might like:\n",
            "['Kanchana: Muni 2', 'Kanchana 2']\n"
          ]
        }
      ]
    }
  ]
}